{
 "cells": [
  {
   "cell_type": "markdown",
   "metadata": {},
   "source": [
    "# Complete Script for Analyzing Movie Data\n",
    "##### Christoph Schartner and Aaron Riegel"
   ]
  },
  {
   "cell_type": "code",
   "execution_count": 1,
   "metadata": {},
   "outputs": [],
   "source": [
    "import pandas as pd\n",
    "import numpy as np\n",
    "import matplotlib.pyplot as plt\n",
    "import seaborn as sns\n",
    "import warnings\n",
    "warnings.filterwarnings('ignore')"
   ]
  },
  {
   "cell_type": "code",
   "execution_count": 2,
   "metadata": {},
   "outputs": [],
   "source": [
    "results_path = '../Data/result_df.csv'\n",
    "movies_path = '../Data/movies_df.csv'\n",
    "results = pd.read_csv(results_path)\n",
    "movies = pd.read_csv(movies_path)"
   ]
  },
  {
   "cell_type": "code",
   "execution_count": 3,
   "metadata": {},
   "outputs": [],
   "source": [
    "movies = pd.read_csv(movies_path)\n",
    "results = pd.read_csv(results_path)"
   ]
  },
  {
   "cell_type": "code",
   "execution_count": 4,
   "metadata": {},
   "outputs": [],
   "source": [
    "final = pd.merge(movies, results, left_index=True, right_index=True)"
   ]
  },
  {
   "cell_type": "markdown",
   "metadata": {},
   "source": [
    "### Final DataFrame with Combined Data"
   ]
  },
  {
   "cell_type": "code",
   "execution_count": 5,
   "metadata": {
    "scrolled": true
   },
   "outputs": [
    {
     "data": {
      "text/html": [
       "<div>\n",
       "<style scoped>\n",
       "    .dataframe tbody tr th:only-of-type {\n",
       "        vertical-align: middle;\n",
       "    }\n",
       "\n",
       "    .dataframe tbody tr th {\n",
       "        vertical-align: top;\n",
       "    }\n",
       "\n",
       "    .dataframe thead th {\n",
       "        text-align: right;\n",
       "    }\n",
       "</style>\n",
       "<table border=\"1\" class=\"dataframe\">\n",
       "  <thead>\n",
       "    <tr style=\"text-align: right;\">\n",
       "      <th></th>\n",
       "      <th>id</th>\n",
       "      <th>title</th>\n",
       "      <th>release_date</th>\n",
       "      <th>overview</th>\n",
       "      <th>Family</th>\n",
       "      <th>Animation</th>\n",
       "      <th>History</th>\n",
       "      <th>Documentary</th>\n",
       "      <th>Adventure</th>\n",
       "      <th>Western</th>\n",
       "      <th>...</th>\n",
       "      <th>pizza</th>\n",
       "      <th>sink</th>\n",
       "      <th>remote</th>\n",
       "      <th>bus</th>\n",
       "      <th>horse</th>\n",
       "      <th>surfboard</th>\n",
       "      <th>book</th>\n",
       "      <th>keyboard</th>\n",
       "      <th>diningtable</th>\n",
       "      <th>sports ball</th>\n",
       "    </tr>\n",
       "  </thead>\n",
       "  <tbody>\n",
       "    <tr>\n",
       "      <th>0</th>\n",
       "      <td>299537</td>\n",
       "      <td>Captain Marvel</td>\n",
       "      <td>2019-03-06</td>\n",
       "      <td>The story follows Carol Danvers as she becomes...</td>\n",
       "      <td>0</td>\n",
       "      <td>0</td>\n",
       "      <td>0</td>\n",
       "      <td>0</td>\n",
       "      <td>1</td>\n",
       "      <td>0</td>\n",
       "      <td>...</td>\n",
       "      <td>0.0</td>\n",
       "      <td>0.0</td>\n",
       "      <td>0.0</td>\n",
       "      <td>0.0</td>\n",
       "      <td>0.0</td>\n",
       "      <td>0.0</td>\n",
       "      <td>0.0</td>\n",
       "      <td>0.0</td>\n",
       "      <td>0.0</td>\n",
       "      <td>0.0</td>\n",
       "    </tr>\n",
       "    <tr>\n",
       "      <th>1</th>\n",
       "      <td>166428</td>\n",
       "      <td>How to Train Your Dragon: The Hidden World</td>\n",
       "      <td>2019-01-03</td>\n",
       "      <td>As Hiccup fulfills his dream of creating a pea...</td>\n",
       "      <td>1</td>\n",
       "      <td>1</td>\n",
       "      <td>0</td>\n",
       "      <td>0</td>\n",
       "      <td>1</td>\n",
       "      <td>0</td>\n",
       "      <td>...</td>\n",
       "      <td>0.0</td>\n",
       "      <td>0.0</td>\n",
       "      <td>0.0</td>\n",
       "      <td>0.0</td>\n",
       "      <td>0.0</td>\n",
       "      <td>0.0</td>\n",
       "      <td>0.0</td>\n",
       "      <td>0.0</td>\n",
       "      <td>0.0</td>\n",
       "      <td>0.0</td>\n",
       "    </tr>\n",
       "    <tr>\n",
       "      <th>2</th>\n",
       "      <td>399579</td>\n",
       "      <td>Alita: Battle Angel</td>\n",
       "      <td>2019-01-31</td>\n",
       "      <td>When Alita awakens with no memory of who she i...</td>\n",
       "      <td>0</td>\n",
       "      <td>0</td>\n",
       "      <td>0</td>\n",
       "      <td>0</td>\n",
       "      <td>1</td>\n",
       "      <td>0</td>\n",
       "      <td>...</td>\n",
       "      <td>0.0</td>\n",
       "      <td>0.0</td>\n",
       "      <td>0.0</td>\n",
       "      <td>0.0</td>\n",
       "      <td>0.0</td>\n",
       "      <td>0.0</td>\n",
       "      <td>0.0</td>\n",
       "      <td>0.0</td>\n",
       "      <td>0.0</td>\n",
       "      <td>0.0</td>\n",
       "    </tr>\n",
       "    <tr>\n",
       "      <th>3</th>\n",
       "      <td>450001</td>\n",
       "      <td>Master Z: Ip Man Legacy</td>\n",
       "      <td>2018-12-20</td>\n",
       "      <td>After being defeated by Ip Man, Cheung Tin Chi...</td>\n",
       "      <td>0</td>\n",
       "      <td>0</td>\n",
       "      <td>0</td>\n",
       "      <td>0</td>\n",
       "      <td>0</td>\n",
       "      <td>0</td>\n",
       "      <td>...</td>\n",
       "      <td>0.0</td>\n",
       "      <td>0.0</td>\n",
       "      <td>0.0</td>\n",
       "      <td>0.0</td>\n",
       "      <td>0.0</td>\n",
       "      <td>0.0</td>\n",
       "      <td>0.0</td>\n",
       "      <td>0.0</td>\n",
       "      <td>0.0</td>\n",
       "      <td>0.0</td>\n",
       "    </tr>\n",
       "    <tr>\n",
       "      <th>4</th>\n",
       "      <td>338952</td>\n",
       "      <td>Fantastic Beasts: The Crimes of Grindelwald</td>\n",
       "      <td>2018-11-14</td>\n",
       "      <td>Gellert Grindelwald has escaped imprisonment a...</td>\n",
       "      <td>1</td>\n",
       "      <td>0</td>\n",
       "      <td>0</td>\n",
       "      <td>0</td>\n",
       "      <td>1</td>\n",
       "      <td>0</td>\n",
       "      <td>...</td>\n",
       "      <td>0.0</td>\n",
       "      <td>0.0</td>\n",
       "      <td>0.0</td>\n",
       "      <td>0.0</td>\n",
       "      <td>0.0</td>\n",
       "      <td>0.0</td>\n",
       "      <td>0.0</td>\n",
       "      <td>0.0</td>\n",
       "      <td>0.0</td>\n",
       "      <td>0.0</td>\n",
       "    </tr>\n",
       "  </tbody>\n",
       "</table>\n",
       "<p>5 rows × 103 columns</p>\n",
       "</div>"
      ],
      "text/plain": [
       "       id                                        title release_date  \\\n",
       "0  299537                               Captain Marvel   2019-03-06   \n",
       "1  166428   How to Train Your Dragon: The Hidden World   2019-01-03   \n",
       "2  399579                          Alita: Battle Angel   2019-01-31   \n",
       "3  450001                      Master Z: Ip Man Legacy   2018-12-20   \n",
       "4  338952  Fantastic Beasts: The Crimes of Grindelwald   2018-11-14   \n",
       "\n",
       "                                            overview  Family  Animation  \\\n",
       "0  The story follows Carol Danvers as she becomes...       0          0   \n",
       "1  As Hiccup fulfills his dream of creating a pea...       1          1   \n",
       "2  When Alita awakens with no memory of who she i...       0          0   \n",
       "3  After being defeated by Ip Man, Cheung Tin Chi...       0          0   \n",
       "4  Gellert Grindelwald has escaped imprisonment a...       1          0   \n",
       "\n",
       "   History  Documentary  Adventure  Western  ...  pizza  sink  remote  bus  \\\n",
       "0        0            0          1        0  ...    0.0   0.0     0.0  0.0   \n",
       "1        0            0          1        0  ...    0.0   0.0     0.0  0.0   \n",
       "2        0            0          1        0  ...    0.0   0.0     0.0  0.0   \n",
       "3        0            0          0        0  ...    0.0   0.0     0.0  0.0   \n",
       "4        0            0          1        0  ...    0.0   0.0     0.0  0.0   \n",
       "\n",
       "   horse  surfboard  book  keyboard  diningtable  sports ball  \n",
       "0    0.0        0.0   0.0       0.0          0.0          0.0  \n",
       "1    0.0        0.0   0.0       0.0          0.0          0.0  \n",
       "2    0.0        0.0   0.0       0.0          0.0          0.0  \n",
       "3    0.0        0.0   0.0       0.0          0.0          0.0  \n",
       "4    0.0        0.0   0.0       0.0          0.0          0.0  \n",
       "\n",
       "[5 rows x 103 columns]"
      ]
     },
     "execution_count": 5,
     "metadata": {},
     "output_type": "execute_result"
    }
   ],
   "source": [
    "final.head()"
   ]
  },
  {
   "cell_type": "code",
   "execution_count": 6,
   "metadata": {},
   "outputs": [
    {
     "data": {
      "image/png": "[encoded data removed]",
      "text/plain": [
       "<Figure size 942.375x900 with 30 Axes>"
      ]
     },
     "metadata": {
      "needs_background": "light"
     },
     "output_type": "display_data"
    }
   ],
   "source": [
    "pair = sns.pairplot(final.drop(['title'],axis=1), vars = ['person','car', 'pizza','knife','truck'], hue= 'Action')"
   ]
  },
  {
   "cell_type": "code",
   "execution_count": 7,
   "metadata": {},
   "outputs": [],
   "source": [
    "genre_df = final[['Family', 'Animation',\n",
    "       'History', 'Documentary', 'Adventure', 'Western', 'Crime', 'Drama',\n",
    "       'Horror', 'Science Fiction', 'Romance', 'War', 'Mystery', 'Fantasy',\n",
    "       'Action', 'TV Movie', 'Thriller', 'Comedy', 'Music']]"
   ]
  },
  {
   "cell_type": "code",
   "execution_count": 8,
   "metadata": {},
   "outputs": [],
   "source": [
    "gct = pd.DataFrame(genre_df.apply(pd.Series.value_counts).loc[1].transpose())"
   ]
  },
  {
   "cell_type": "code",
   "execution_count": 9,
   "metadata": {},
   "outputs": [],
   "source": [
    "gct = gct.reset_index()\n",
    "gct.columns\n",
    "gct.columns = ['genres', 'count']\n",
    "gct.sort_values(by='count', ascending=False, inplace=True)"
   ]
  },
  {
   "cell_type": "code",
   "execution_count": 10,
   "metadata": {},
   "outputs": [
    {
     "data": {
      "text/plain": [
       "<matplotlib.axes._subplots.AxesSubplot at 0x1a1d9c4240>"
      ]
     },
     "execution_count": 10,
     "metadata": {},
     "output_type": "execute_result"
    },
    {
     "data": {
      "image/png": "[encoded data removed]",
      "text/plain": [
       "<Figure size 1080x1440 with 1 Axes>"
      ]
     },
     "metadata": {
      "needs_background": "light"
     },
     "output_type": "display_data"
    }
   ],
   "source": [
    "plt.figure(figsize=(15,20)) \n",
    "sns.barplot(x='count',y ='genres', data=gct)"
   ]
  },
  {
   "cell_type": "markdown",
   "metadata": {},
   "source": [
    "## YOLO Data Approach"
   ]
  },
  {
   "cell_type": "code",
   "execution_count": 11,
   "metadata": {},
   "outputs": [],
   "source": [
    "y = final.drop(final[['id','title']], axis = 1)\n",
    "y = y[['Mystery', 'Animation', 'Music', 'History', 'Comedy', 'Science Fiction',\n",
    "       'Family', 'Fantasy', 'Romance', 'Horror', 'War', 'Documentary',\n",
    "       'TV Movie', 'Adventure', 'Drama', 'Western', 'Thriller', 'Action',\n",
    "       'Crime']]"
   ]
  },
  {
   "cell_type": "code",
   "execution_count": 12,
   "metadata": {},
   "outputs": [],
   "source": [
    "X = final.drop(final[['Mystery', 'Animation', 'Music', 'History', 'Comedy', 'Science Fiction',\n",
    "       'Family', 'Fantasy', 'Romance', 'Horror', 'War', 'Documentary',\n",
    "       'TV Movie', 'Adventure', 'Drama', 'Western', 'Thriller', 'Action',\n",
    "       'Crime','overview','release_date']], axis = 1)\n",
    "X = X.drop(X[['title','id']], axis = 1)"
   ]
  },
  {
   "cell_type": "code",
   "execution_count": 13,
   "metadata": {},
   "outputs": [],
   "source": [
    "from sklearn.model_selection import train_test_split"
   ]
  },
  {
   "cell_type": "code",
   "execution_count": 14,
   "metadata": {},
   "outputs": [],
   "source": [
    "X_train, X_test, y_train, y_test = train_test_split(X, y, test_size=0.33, random_state=42)"
   ]
  },
  {
   "cell_type": "code",
   "execution_count": 15,
   "metadata": {},
   "outputs": [],
   "source": [
    "from sklearn.svm import SVC"
   ]
  },
  {
   "cell_type": "code",
   "execution_count": 16,
   "metadata": {},
   "outputs": [],
   "source": [
    "from sklearn.multiclass import OneVsRestClassifier"
   ]
  },
  {
   "cell_type": "code",
   "execution_count": 17,
   "metadata": {},
   "outputs": [],
   "source": [
    "model = OneVsRestClassifier(SVC(gamma='auto'))"
   ]
  },
  {
   "cell_type": "code",
   "execution_count": 18,
   "metadata": {},
   "outputs": [
    {
     "data": {
      "text/plain": [
       "OneVsRestClassifier(estimator=SVC(C=1.0, cache_size=200, class_weight=None, coef0=0.0,\n",
       "  decision_function_shape='ovr', degree=3, gamma='auto', kernel='rbf',\n",
       "  max_iter=-1, probability=False, random_state=None, shrinking=True,\n",
       "  tol=0.001, verbose=False),\n",
       "          n_jobs=None)"
      ]
     },
     "execution_count": 18,
     "metadata": {},
     "output_type": "execute_result"
    }
   ],
   "source": [
    "model.fit(X_train,y_train)"
   ]
  },
  {
   "cell_type": "code",
   "execution_count": 19,
   "metadata": {},
   "outputs": [],
   "source": [
    "predicted = model.predict(X_test)"
   ]
  },
  {
   "cell_type": "code",
   "execution_count": 20,
   "metadata": {},
   "outputs": [],
   "source": [
    "from sklearn.metrics import confusion_matrix, classification_report"
   ]
  },
  {
   "cell_type": "code",
   "execution_count": 21,
   "metadata": {},
   "outputs": [
    {
     "name": "stdout",
     "output_type": "stream",
     "text": [
      "              precision    recall  f1-score   support\n",
      "\n",
      "           0       0.00      0.00      0.00       262\n",
      "           1       0.00      0.00      0.00       273\n",
      "           2       0.00      0.00      0.00        95\n",
      "           3       0.00      0.00      0.00       142\n",
      "           4       0.35      0.11      0.17      1132\n",
      "           5       0.22      0.02      0.04       367\n",
      "           6       0.00      0.00      0.00       353\n",
      "           7       0.13      0.01      0.01       332\n",
      "           8       0.16      0.01      0.02       569\n",
      "           9       0.11      0.01      0.02       393\n",
      "          10       0.00      0.00      0.00       106\n",
      "          11       0.00      0.00      0.00        51\n",
      "          12       0.00      0.00      0.00        31\n",
      "          13       0.24      0.03      0.05       511\n",
      "          14       0.46      0.25      0.32      1540\n",
      "          15       0.00      0.00      0.00        60\n",
      "          16       0.27      0.05      0.08       900\n",
      "          17       0.32      0.05      0.09       772\n",
      "          18       0.15      0.01      0.02       474\n",
      "\n",
      "   micro avg       0.36      0.08      0.12      8363\n",
      "   macro avg       0.13      0.03      0.04      8363\n",
      "weighted avg       0.24      0.08      0.11      8363\n",
      " samples avg       0.15      0.09      0.10      8363\n",
      "\n"
     ]
    }
   ],
   "source": [
    "print(f'{classification_report(y_test,predicted)}')"
   ]
  },
  {
   "cell_type": "markdown",
   "metadata": {},
   "source": [
    "### Word2Vec Approach"
   ]
  },
  {
   "cell_type": "code",
   "execution_count": 22,
   "metadata": {},
   "outputs": [],
   "source": [
    "movies_path = '../Data/movies_df.csv'"
   ]
  },
  {
   "cell_type": "code",
   "execution_count": 23,
   "metadata": {},
   "outputs": [],
   "source": [
    "movies = pd.read_csv(movies_path)"
   ]
  },
  {
   "cell_type": "code",
   "execution_count": 24,
   "metadata": {
    "scrolled": true
   },
   "outputs": [
    {
     "data": {
      "text/plain": [
       "Index(['id', 'title', 'release_date', 'overview', 'Family', 'Animation',\n",
       "       'History', 'Documentary', 'Adventure', 'Western', 'Crime', 'Drama',\n",
       "       'Horror', 'Science Fiction', 'Romance', 'War', 'Mystery', 'Fantasy',\n",
       "       'Action', 'TV Movie', 'Thriller', 'Comedy', 'Music'],\n",
       "      dtype='object')"
      ]
     },
     "execution_count": 24,
     "metadata": {},
     "output_type": "execute_result"
    }
   ],
   "source": [
    "movies.columns"
   ]
  },
  {
   "cell_type": "code",
   "execution_count": 25,
   "metadata": {},
   "outputs": [],
   "source": [
    "movies = movies.drop(['release_date'], axis=1)"
   ]
  },
  {
   "cell_type": "code",
   "execution_count": 26,
   "metadata": {},
   "outputs": [],
   "source": [
    "movies = movies.drop(['overview'],axis=1)"
   ]
  },
  {
   "cell_type": "code",
   "execution_count": 27,
   "metadata": {},
   "outputs": [],
   "source": [
    "from gensim.models import Word2Vec"
   ]
  },
  {
   "cell_type": "code",
   "execution_count": 28,
   "metadata": {},
   "outputs": [],
   "source": [
    "from gensim.models import KeyedVectors"
   ]
  },
  {
   "cell_type": "code",
   "execution_count": 31,
   "metadata": {},
   "outputs": [],
   "source": [
    "filename = '../Data/GoogleNews-vectors-negative300.bin'"
   ]
  },
  {
   "cell_type": "code",
   "execution_count": 32,
   "metadata": {},
   "outputs": [],
   "source": [
    "model = KeyedVectors.load_word2vec_format(filename, binary=True)"
   ]
  },
  {
   "cell_type": "code",
   "execution_count": 33,
   "metadata": {},
   "outputs": [],
   "source": [
    "stoplist = set('for a of the and to in : &'.split())\n",
    "punctuation = set('; / \" . , :'.split())"
   ]
  },
  {
   "cell_type": "code",
   "execution_count": 34,
   "metadata": {},
   "outputs": [],
   "source": [
    "def most_likely(title, genres = ['Mystery',\n",
    "       'Animation', 'Music', 'History', 'Comedy', 'Science', 'Family',\n",
    "       'Fantasy', 'Romance', 'Horror', 'War', 'Documentary', 'TV',\n",
    "       'Adventure', 'Drama', 'Western', 'Thriller', 'Action', 'Crime']):\n",
    "    \n",
    "    broken_title = title.split(' ')\n",
    "\n",
    "    print(broken_title)\n",
    "    dists = []\n",
    "    d = [0] * len(genres)\n",
    "    for word in broken_title:\n",
    "        if word.lower() in stoplist:\n",
    "            continue\n",
    "        \n",
    "        else:\n",
    "            for stop in punctuation:\n",
    "                if stop in word:\n",
    "                    word = word.split(stop)[0]\n",
    "                \n",
    "            for genre in genres:\n",
    "                d[genres.index(genre)] += model.distance(word.lower(), genre)\n",
    "            \n",
    "    dists = [x / len(broken_title) for x in d]\n",
    "    \n",
    "    \n",
    "    print(sorted(zip(dists,genres), reverse = False)[:3])\n",
    "\n"
   ]
  },
  {
   "cell_type": "code",
   "execution_count": 35,
   "metadata": {},
   "outputs": [
    {
     "name": "stdout",
     "output_type": "stream",
     "text": [
      "['how', 'to', 'train', 'your', 'dragon:']\n",
      "[(0.7306259445053478, 'Animation'), (0.7323483993429456, 'Horror'), (0.7340412899392667, 'Fantasy')]\n"
     ]
    }
   ],
   "source": [
    "genres = ['Mystery',\n",
    "       'Animation', 'Music', 'History', 'Comedy', 'Science', 'Family',\n",
    "       'Fantasy', 'Romance', 'Horror', 'War', 'Documentary', 'TV',\n",
    "       'Adventure', 'Drama', 'Western', 'Thriller', 'Action', 'Crime']\n",
    "most_likely('how to train your dragon:', genres)"
   ]
  },
  {
   "cell_type": "markdown",
   "metadata": {},
   "source": [
    "### TF-IDF Approach"
   ]
  },
  {
   "cell_type": "code",
   "execution_count": 36,
   "metadata": {},
   "outputs": [],
   "source": [
    "import re\n",
    "import nltk"
   ]
  },
  {
   "cell_type": "code",
   "execution_count": 37,
   "metadata": {},
   "outputs": [],
   "source": [
    "df = pd.read_csv('../Data/movies_df.csv')"
   ]
  },
  {
   "cell_type": "code",
   "execution_count": 38,
   "metadata": {},
   "outputs": [],
   "source": [
    "def clean(text): # use regular expression to remove specific characters\n",
    "    text = re.sub(\"\\'\", \" \", text)\n",
    "    text = re.sub(\"[^a-zA-Z]\",\" \",text)\n",
    "    text = ' '.join(text.split())\n",
    "    text = text.lower()\n",
    "    return text"
   ]
  },
  {
   "cell_type": "code",
   "execution_count": 39,
   "metadata": {},
   "outputs": [],
   "source": [
    "df['clean_overview'] = df['overview'].astype(str).apply(lambda x: clean(x))"
   ]
  },
  {
   "cell_type": "code",
   "execution_count": 40,
   "metadata": {},
   "outputs": [],
   "source": [
    "stpwrds = set(nltk.corpus.stopwords.words('english'))"
   ]
  },
  {
   "cell_type": "code",
   "execution_count": 41,
   "metadata": {},
   "outputs": [],
   "source": [
    "def remove_stops(text):\n",
    "    cleaned = [w for w in text.split() if not w in stpwrds]\n",
    "    return ' '.join(cleaned)"
   ]
  },
  {
   "cell_type": "code",
   "execution_count": 42,
   "metadata": {},
   "outputs": [],
   "source": [
    "df['clean_overview'] = df['clean_overview'].astype(str).apply(lambda x: remove_stops(x))"
   ]
  },
  {
   "cell_type": "code",
   "execution_count": 43,
   "metadata": {},
   "outputs": [],
   "source": [
    "from sklearn.feature_extraction.text import TfidfVectorizer\n",
    "from sklearn.model_selection import train_test_split"
   ]
  },
  {
   "cell_type": "code",
   "execution_count": 44,
   "metadata": {},
   "outputs": [],
   "source": [
    "tfidf_vectorizer = TfidfVectorizer(max_df=0.8, max_features=10000)"
   ]
  },
  {
   "cell_type": "code",
   "execution_count": 45,
   "metadata": {},
   "outputs": [],
   "source": [
    "X = df['clean_overview']\n",
    "y = df[['Family', 'Animation',\n",
    "       'History', 'Documentary', 'Adventure', 'Western', 'Crime', 'Drama',\n",
    "       'Horror', 'Science Fiction', 'Romance', 'War', 'Mystery', 'Fantasy',\n",
    "       'Action', 'TV Movie', 'Thriller', 'Comedy', 'Music']]"
   ]
  },
  {
   "cell_type": "code",
   "execution_count": 46,
   "metadata": {},
   "outputs": [],
   "source": [
    "X_train, X_test, y_train, y_test = train_test_split(X, y, test_size=0.33, random_state=42)\n",
    "\n",
    "tfidf_xtrain = tfidf_vectorizer.fit_transform(X_train)\n",
    "tfidf_xtest = tfidf_vectorizer.transform(X_test)"
   ]
  },
  {
   "cell_type": "code",
   "execution_count": 47,
   "metadata": {},
   "outputs": [],
   "source": [
    "from sklearn.svm import SVC\n",
    "from sklearn.multiclass import OneVsRestClassifier\n",
    "from sklearn.metrics import classification_report"
   ]
  },
  {
   "cell_type": "code",
   "execution_count": 48,
   "metadata": {},
   "outputs": [],
   "source": [
    "model = OneVsRestClassifier(SVC(gamma = 'auto',kernel = 'linear'))"
   ]
  },
  {
   "cell_type": "code",
   "execution_count": 49,
   "metadata": {},
   "outputs": [
    {
     "data": {
      "text/plain": [
       "OneVsRestClassifier(estimator=SVC(C=1.0, cache_size=200, class_weight=None, coef0=0.0,\n",
       "  decision_function_shape='ovr', degree=3, gamma='auto', kernel='linear',\n",
       "  max_iter=-1, probability=False, random_state=None, shrinking=True,\n",
       "  tol=0.001, verbose=False),\n",
       "          n_jobs=None)"
      ]
     },
     "execution_count": 49,
     "metadata": {},
     "output_type": "execute_result"
    }
   ],
   "source": [
    "model.fit(tfidf_xtrain, y_train)"
   ]
  },
  {
   "cell_type": "code",
   "execution_count": 50,
   "metadata": {},
   "outputs": [],
   "source": [
    "predictions = model.predict(tfidf_xtest)"
   ]
  },
  {
   "cell_type": "code",
   "execution_count": 51,
   "metadata": {},
   "outputs": [
    {
     "name": "stdout",
     "output_type": "stream",
     "text": [
      "              precision    recall  f1-score   support\n",
      "\n",
      "           0       0.24      0.81      0.37       106\n",
      "           1       0.19      0.88      0.31        59\n",
      "           2       0.03      0.57      0.05         7\n",
      "           3       0.16      0.80      0.26        10\n",
      "           4       0.23      0.68      0.34       173\n",
      "           5       0.03      1.00      0.06         2\n",
      "           6       0.29      0.70      0.41       193\n",
      "           7       0.63      0.67      0.65      1456\n",
      "           8       0.37      0.77      0.50       190\n",
      "           9       0.29      0.85      0.43       124\n",
      "          10       0.30      0.67      0.41       250\n",
      "          11       0.24      0.81      0.36        31\n",
      "          12       0.06      0.74      0.12        23\n",
      "          13       0.14      0.76      0.24        63\n",
      "          14       0.43      0.75      0.55       445\n",
      "          15       0.00      0.00      0.00         0\n",
      "          16       0.40      0.69      0.51       520\n",
      "          17       0.54      0.68      0.60       888\n",
      "          18       0.08      0.67      0.15        12\n",
      "\n",
      "   micro avg       0.38      0.70      0.49      4552\n",
      "   macro avg       0.24      0.71      0.33      4552\n",
      "weighted avg       0.47      0.70      0.54      4552\n",
      " samples avg       0.43      0.61      0.47      4552\n",
      "\n"
     ]
    }
   ],
   "source": [
    "print(classification_report(predictions,y_test))"
   ]
  },
  {
   "cell_type": "markdown",
   "metadata": {},
   "source": [
    "#### Use Multilabel Binarizer Instead"
   ]
  },
  {
   "cell_type": "code",
   "execution_count": 52,
   "metadata": {},
   "outputs": [],
   "source": [
    "def make_genre_list(s):\n",
    "    genre_list = ['Family', 'Animation',\n",
    "       'History', 'Documentary', 'Adventure', 'Western', 'Crime', 'Drama',\n",
    "       'Horror', 'Science Fiction', 'Romance', 'War', 'Mystery', 'Fantasy',\n",
    "       'Action', 'TV Movie', 'Thriller', 'Comedy', 'Music']\n",
    "    gen = []\n",
    "    for g in genre_list:\n",
    "        if s.loc[g] == 1:\n",
    "            gen.append(g)\n",
    "    return gen"
   ]
  },
  {
   "cell_type": "code",
   "execution_count": 53,
   "metadata": {},
   "outputs": [],
   "source": [
    "df['genre_list'] = df.apply(lambda row : make_genre_list(row), axis = 1)"
   ]
  },
  {
   "cell_type": "code",
   "execution_count": 54,
   "metadata": {},
   "outputs": [],
   "source": [
    "from sklearn.preprocessing import MultiLabelBinarizer"
   ]
  },
  {
   "cell_type": "code",
   "execution_count": 55,
   "metadata": {},
   "outputs": [],
   "source": [
    "multilabel_binarizer = MultiLabelBinarizer()\n",
    "multilabel_binarizer.fit(df['genre_list'])\n",
    "\n",
    "X = df['clean_overview']\n",
    "y = multilabel_binarizer.transform(df['genre_list'])"
   ]
  },
  {
   "cell_type": "code",
   "execution_count": 56,
   "metadata": {},
   "outputs": [],
   "source": [
    "X_train, X_test, y_train, y_test = train_test_split(X, y, test_size=0.33, random_state=42)\n",
    "tfidf_xtrain = tfidf_vectorizer.fit_transform(X_train)\n",
    "tfidf_xtest = tfidf_vectorizer.transform(X_test)"
   ]
  },
  {
   "cell_type": "code",
   "execution_count": 57,
   "metadata": {},
   "outputs": [],
   "source": [
    "model = OneVsRestClassifier(SVC(gamma = 'auto', kernel = 'linear'))"
   ]
  },
  {
   "cell_type": "code",
   "execution_count": 58,
   "metadata": {},
   "outputs": [
    {
     "data": {
      "text/plain": [
       "OneVsRestClassifier(estimator=SVC(C=1.0, cache_size=200, class_weight=None, coef0=0.0,\n",
       "  decision_function_shape='ovr', degree=3, gamma='auto', kernel='linear',\n",
       "  max_iter=-1, probability=False, random_state=None, shrinking=True,\n",
       "  tol=0.001, verbose=False),\n",
       "          n_jobs=None)"
      ]
     },
     "execution_count": 58,
     "metadata": {},
     "output_type": "execute_result"
    }
   ],
   "source": [
    "model.fit(tfidf_xtrain, y_train)"
   ]
  },
  {
   "cell_type": "code",
   "execution_count": 59,
   "metadata": {},
   "outputs": [],
   "source": [
    "predictions = model.predict(tfidf_xtest)"
   ]
  },
  {
   "cell_type": "code",
   "execution_count": 60,
   "metadata": {},
   "outputs": [
    {
     "name": "stdout",
     "output_type": "stream",
     "text": [
      "              precision    recall  f1-score   support\n",
      "\n",
      "           0       0.43      0.75      0.55       445\n",
      "           1       0.23      0.68      0.34       173\n",
      "           2       0.19      0.88      0.31        59\n",
      "           3       0.54      0.68      0.60       888\n",
      "           4       0.29      0.70      0.41       193\n",
      "           5       0.16      0.80      0.26        10\n",
      "           6       0.63      0.67      0.65      1456\n",
      "           7       0.24      0.81      0.37       106\n",
      "           8       0.14      0.76      0.24        63\n",
      "           9       0.03      0.57      0.05         7\n",
      "          10       0.37      0.77      0.50       190\n",
      "          11       0.08      0.67      0.15        12\n",
      "          12       0.06      0.74      0.12        23\n",
      "          13       0.30      0.67      0.41       250\n",
      "          14       0.29      0.85      0.43       124\n",
      "          15       0.00      0.00      0.00         0\n",
      "          16       0.40      0.69      0.51       520\n",
      "          17       0.24      0.81      0.36        31\n",
      "          18       0.03      1.00      0.06         2\n",
      "\n",
      "   micro avg       0.38      0.70      0.49      4552\n",
      "   macro avg       0.24      0.71      0.33      4552\n",
      "weighted avg       0.47      0.70      0.54      4552\n",
      " samples avg       0.43      0.61      0.47      4552\n",
      "\n"
     ]
    }
   ],
   "source": [
    "print(classification_report(predictions,y_test))"
   ]
  },
  {
   "cell_type": "code",
   "execution_count": 61,
   "metadata": {},
   "outputs": [],
   "source": [
    "from sklearn.linear_model import LogisticRegression"
   ]
  },
  {
   "cell_type": "code",
   "execution_count": 62,
   "metadata": {},
   "outputs": [],
   "source": [
    "logovr = OneVsRestClassifier(LogisticRegression())"
   ]
  },
  {
   "cell_type": "code",
   "execution_count": 63,
   "metadata": {},
   "outputs": [
    {
     "data": {
      "text/plain": [
       "OneVsRestClassifier(estimator=LogisticRegression(C=1.0, class_weight=None, dual=False, fit_intercept=True,\n",
       "          intercept_scaling=1, max_iter=100, multi_class='warn',\n",
       "          n_jobs=None, penalty='l2', random_state=None, solver='warn',\n",
       "          tol=0.0001, verbose=0, warm_start=False),\n",
       "          n_jobs=None)"
      ]
     },
     "execution_count": 63,
     "metadata": {},
     "output_type": "execute_result"
    }
   ],
   "source": [
    "logovr.fit(tfidf_xtrain, y_train)"
   ]
  },
  {
   "cell_type": "code",
   "execution_count": 64,
   "metadata": {},
   "outputs": [],
   "source": [
    "predicted = logovr.predict(tfidf_xtest)"
   ]
  },
  {
   "cell_type": "code",
   "execution_count": 65,
   "metadata": {},
   "outputs": [
    {
     "name": "stdout",
     "output_type": "stream",
     "text": [
      "              precision    recall  f1-score   support\n",
      "\n",
      "           0       0.24      0.85      0.37       217\n",
      "           1       0.09      0.77      0.16        61\n",
      "           2       0.01      1.00      0.02         3\n",
      "           3       0.40      0.74      0.52       605\n",
      "           4       0.12      0.69      0.21        85\n",
      "           5       0.00      0.00      0.00         0\n",
      "           6       0.62      0.69      0.65      1372\n",
      "           7       0.04      1.00      0.08        15\n",
      "           8       0.03      1.00      0.06        11\n",
      "           9       0.00      0.00      0.00         1\n",
      "          10       0.10      0.97      0.18        40\n",
      "          11       0.00      0.00      0.00         0\n",
      "          12       0.01      1.00      0.02         3\n",
      "          13       0.14      0.81      0.24       100\n",
      "          14       0.13      0.96      0.23        49\n",
      "          15       0.00      0.00      0.00         0\n",
      "          16       0.24      0.78      0.37       274\n",
      "          17       0.03      1.00      0.06         3\n",
      "          18       0.00      0.00      0.00         0\n",
      "\n",
      "   micro avg       0.25      0.74      0.38      2839\n",
      "   macro avg       0.12      0.65      0.17      2839\n",
      "weighted avg       0.44      0.74      0.52      2839\n",
      " samples avg       0.30      0.51      0.35      2839\n",
      "\n"
     ]
    }
   ],
   "source": [
    "print(classification_report(predicted, y_test))"
   ]
  },
  {
   "cell_type": "code",
   "execution_count": 68,
   "metadata": {},
   "outputs": [],
   "source": [
    "mbi = multilabel_binarizer.inverse_transform(predicted)"
   ]
  },
  {
   "cell_type": "markdown",
   "metadata": {},
   "source": [
    "## Dominant color approach"
   ]
  },
  {
   "cell_type": "code",
   "execution_count": 72,
   "metadata": {},
   "outputs": [],
   "source": [
    "from matplotlib import image\n",
    "from scipy.cluster.vq import whiten\n",
    "from scipy.cluster.vq import kmeans\n",
    "from timeit import default_timer as timer\n",
    "\n",
    "def get_dominant_color(id):\n",
    "    start = timer()\n",
    "    img = image.imread(r'../Data/Images/' + str(id) + '.jpg')\n",
    "    np_img = np.reshape(img, (img.shape[0]*img.shape[1], img.shape[2]))\n",
    "    np_flat_img = whiten(np_img)\n",
    "    cluster_centers, distortion = kmeans(np_flat_img, 2)\n",
    "    \n",
    "    red_std = np_img[:, 0].std()\n",
    "    green_std = np_img[:, 1].std()\n",
    "    blue_std =  np_img[:, 0].std()\n",
    "    \n",
    "    results = {}\n",
    "    for index, cluster_center in enumerate(cluster_centers):\n",
    "        int_color = int('{:02x}{:02x}{:02x}'.format(\n",
    "            int(cluster_center[0] * red_std), \n",
    "            int(cluster_center[1] * green_std), \n",
    "            int(cluster_center[2] * blue_std)), 16)\n",
    "        key = 'color_{}'.format(index)\n",
    "        results[key] = int_color\n",
    "    end = timer()\n",
    "    print('{0}: {1:.2f}s'.format(id, end - start))\n",
    "    return results\n",
    "    "
   ]
  },
  {
   "cell_type": "code",
   "execution_count": 73,
   "metadata": {},
   "outputs": [],
   "source": [
    "movies = pd.read_csv(r'../Data/movies_df.csv')"
   ]
  },
  {
   "cell_type": "code",
   "execution_count": 74,
   "metadata": {
    "scrolled": true
   },
   "outputs": [
    {
     "name": "stdout",
     "output_type": "stream",
     "text": [
      "299537: 1.04s\n",
      "166428: 1.40s\n",
      "399579: 2.13s\n",
      "450001: 1.34s\n",
      "338952: 1.04s\n",
      "324857: 0.95s\n",
      "400650: 1.09s\n",
      "464504: 0.68s\n",
      "297802: 1.41s\n",
      "512196: 0.58s\n",
      "450465: 0.86s\n",
      "490132: 1.07s\n",
      "428078: 0.93s\n",
      "299536: 1.40s\n",
      "920: 1.49s\n",
      "487297: 0.88s\n",
      "280217: 1.44s\n",
      "480530: 1.11s\n",
      "424694: 0.98s\n",
      "449563: 1.35s\n",
      "390634: 1.34s\n",
      "245891: 1.69s\n",
      "458723: 0.63s\n",
      "445629: 1.23s\n",
      "332562: 1.13s\n"
     ]
    }
   ],
   "source": [
    "temp = movies[:25].apply(lambda x: get_dominant_color(x['id']), axis=1, result_type='expand')"
   ]
  },
  {
   "cell_type": "code",
   "execution_count": 75,
   "metadata": {},
   "outputs": [],
   "source": [
    "df = pd.merge(movies, temp, left_index=True, right_index=True, )"
   ]
  },
  {
   "cell_type": "code",
   "execution_count": 76,
   "metadata": {},
   "outputs": [
    {
     "data": {
      "text/html": [
       "<div>\n",
       "<style scoped>\n",
       "    .dataframe tbody tr th:only-of-type {\n",
       "        vertical-align: middle;\n",
       "    }\n",
       "\n",
       "    .dataframe tbody tr th {\n",
       "        vertical-align: top;\n",
       "    }\n",
       "\n",
       "    .dataframe thead th {\n",
       "        text-align: right;\n",
       "    }\n",
       "</style>\n",
       "<table border=\"1\" class=\"dataframe\">\n",
       "  <thead>\n",
       "    <tr style=\"text-align: right;\">\n",
       "      <th></th>\n",
       "      <th>id</th>\n",
       "      <th>title</th>\n",
       "      <th>release_date</th>\n",
       "      <th>overview</th>\n",
       "      <th>Family</th>\n",
       "      <th>Animation</th>\n",
       "      <th>History</th>\n",
       "      <th>Documentary</th>\n",
       "      <th>Adventure</th>\n",
       "      <th>Western</th>\n",
       "      <th>...</th>\n",
       "      <th>War</th>\n",
       "      <th>Mystery</th>\n",
       "      <th>Fantasy</th>\n",
       "      <th>Action</th>\n",
       "      <th>TV Movie</th>\n",
       "      <th>Thriller</th>\n",
       "      <th>Comedy</th>\n",
       "      <th>Music</th>\n",
       "      <th>color_0</th>\n",
       "      <th>color_1</th>\n",
       "    </tr>\n",
       "  </thead>\n",
       "  <tbody>\n",
       "    <tr>\n",
       "      <th>0</th>\n",
       "      <td>299537</td>\n",
       "      <td>Captain Marvel</td>\n",
       "      <td>2019-03-06</td>\n",
       "      <td>The story follows Carol Danvers as she becomes...</td>\n",
       "      <td>0</td>\n",
       "      <td>0</td>\n",
       "      <td>0</td>\n",
       "      <td>0</td>\n",
       "      <td>1</td>\n",
       "      <td>0</td>\n",
       "      <td>...</td>\n",
       "      <td>0</td>\n",
       "      <td>0</td>\n",
       "      <td>0</td>\n",
       "      <td>1</td>\n",
       "      <td>0</td>\n",
       "      <td>0</td>\n",
       "      <td>0</td>\n",
       "      <td>0</td>\n",
       "      <td>5907000</td>\n",
       "      <td>13742804</td>\n",
       "    </tr>\n",
       "    <tr>\n",
       "      <th>1</th>\n",
       "      <td>166428</td>\n",
       "      <td>How to Train Your Dragon: The Hidden World</td>\n",
       "      <td>2019-01-03</td>\n",
       "      <td>As Hiccup fulfills his dream of creating a pea...</td>\n",
       "      <td>1</td>\n",
       "      <td>1</td>\n",
       "      <td>0</td>\n",
       "      <td>0</td>\n",
       "      <td>1</td>\n",
       "      <td>0</td>\n",
       "      <td>...</td>\n",
       "      <td>0</td>\n",
       "      <td>0</td>\n",
       "      <td>0</td>\n",
       "      <td>0</td>\n",
       "      <td>0</td>\n",
       "      <td>0</td>\n",
       "      <td>0</td>\n",
       "      <td>0</td>\n",
       "      <td>6794913</td>\n",
       "      <td>1716028</td>\n",
       "    </tr>\n",
       "    <tr>\n",
       "      <th>2</th>\n",
       "      <td>399579</td>\n",
       "      <td>Alita: Battle Angel</td>\n",
       "      <td>2019-01-31</td>\n",
       "      <td>When Alita awakens with no memory of who she i...</td>\n",
       "      <td>0</td>\n",
       "      <td>0</td>\n",
       "      <td>0</td>\n",
       "      <td>0</td>\n",
       "      <td>1</td>\n",
       "      <td>0</td>\n",
       "      <td>...</td>\n",
       "      <td>0</td>\n",
       "      <td>0</td>\n",
       "      <td>0</td>\n",
       "      <td>1</td>\n",
       "      <td>0</td>\n",
       "      <td>1</td>\n",
       "      <td>0</td>\n",
       "      <td>0</td>\n",
       "      <td>1717349</td>\n",
       "      <td>10595056</td>\n",
       "    </tr>\n",
       "    <tr>\n",
       "      <th>3</th>\n",
       "      <td>450001</td>\n",
       "      <td>Master Z: Ip Man Legacy</td>\n",
       "      <td>2018-12-20</td>\n",
       "      <td>After being defeated by Ip Man, Cheung Tin Chi...</td>\n",
       "      <td>0</td>\n",
       "      <td>0</td>\n",
       "      <td>0</td>\n",
       "      <td>0</td>\n",
       "      <td>0</td>\n",
       "      <td>0</td>\n",
       "      <td>...</td>\n",
       "      <td>0</td>\n",
       "      <td>0</td>\n",
       "      <td>0</td>\n",
       "      <td>1</td>\n",
       "      <td>0</td>\n",
       "      <td>0</td>\n",
       "      <td>0</td>\n",
       "      <td>0</td>\n",
       "      <td>1315347</td>\n",
       "      <td>8682373</td>\n",
       "    </tr>\n",
       "    <tr>\n",
       "      <th>4</th>\n",
       "      <td>338952</td>\n",
       "      <td>Fantastic Beasts: The Crimes of Grindelwald</td>\n",
       "      <td>2018-11-14</td>\n",
       "      <td>Gellert Grindelwald has escaped imprisonment a...</td>\n",
       "      <td>1</td>\n",
       "      <td>0</td>\n",
       "      <td>0</td>\n",
       "      <td>0</td>\n",
       "      <td>1</td>\n",
       "      <td>0</td>\n",
       "      <td>...</td>\n",
       "      <td>0</td>\n",
       "      <td>0</td>\n",
       "      <td>1</td>\n",
       "      <td>0</td>\n",
       "      <td>0</td>\n",
       "      <td>0</td>\n",
       "      <td>0</td>\n",
       "      <td>0</td>\n",
       "      <td>1646884</td>\n",
       "      <td>9543582</td>\n",
       "    </tr>\n",
       "  </tbody>\n",
       "</table>\n",
       "<p>5 rows × 25 columns</p>\n",
       "</div>"
      ],
      "text/plain": [
       "       id                                        title release_date  \\\n",
       "0  299537                               Captain Marvel   2019-03-06   \n",
       "1  166428   How to Train Your Dragon: The Hidden World   2019-01-03   \n",
       "2  399579                          Alita: Battle Angel   2019-01-31   \n",
       "3  450001                      Master Z: Ip Man Legacy   2018-12-20   \n",
       "4  338952  Fantastic Beasts: The Crimes of Grindelwald   2018-11-14   \n",
       "\n",
       "                                            overview  Family  Animation  \\\n",
       "0  The story follows Carol Danvers as she becomes...       0          0   \n",
       "1  As Hiccup fulfills his dream of creating a pea...       1          1   \n",
       "2  When Alita awakens with no memory of who she i...       0          0   \n",
       "3  After being defeated by Ip Man, Cheung Tin Chi...       0          0   \n",
       "4  Gellert Grindelwald has escaped imprisonment a...       1          0   \n",
       "\n",
       "   History  Documentary  Adventure  Western  ...  War  Mystery  Fantasy  \\\n",
       "0        0            0          1        0  ...    0        0        0   \n",
       "1        0            0          1        0  ...    0        0        0   \n",
       "2        0            0          1        0  ...    0        0        0   \n",
       "3        0            0          0        0  ...    0        0        0   \n",
       "4        0            0          1        0  ...    0        0        1   \n",
       "\n",
       "   Action  TV Movie  Thriller  Comedy  Music  color_0   color_1  \n",
       "0       1         0         0       0      0  5907000  13742804  \n",
       "1       0         0         0       0      0  6794913   1716028  \n",
       "2       1         0         1       0      0  1717349  10595056  \n",
       "3       1         0         0       0      0  1315347   8682373  \n",
       "4       0         0         0       0      0  1646884   9543582  \n",
       "\n",
       "[5 rows x 25 columns]"
      ]
     },
     "execution_count": 76,
     "metadata": {},
     "output_type": "execute_result"
    }
   ],
   "source": [
    "df.head()"
   ]
  },
  {
   "cell_type": "code",
   "execution_count": 77,
   "metadata": {},
   "outputs": [
    {
     "data": {
      "text/plain": [
       "<seaborn.axisgrid.PairGrid at 0x1b19208710>"
      ]
     },
     "execution_count": 77,
     "metadata": {},
     "output_type": "execute_result"
    },
    {
     "data": {
      "image/png": "[encoded data removed]",
      "text/plain": [
       "<Figure size 402.375x360 with 6 Axes>"
      ]
     },
     "metadata": {
      "needs_background": "light"
     },
     "output_type": "display_data"
    }
   ],
   "source": [
    "sns.pairplot(df, vars=['color_0', 'color_1'], hue='Drama')"
   ]
  },
  {
   "cell_type": "code",
   "execution_count": 78,
   "metadata": {},
   "outputs": [],
   "source": [
    "from sklearn.model_selection import train_test_split"
   ]
  },
  {
   "cell_type": "code",
   "execution_count": 79,
   "metadata": {},
   "outputs": [
    {
     "data": {
      "text/plain": [
       "Index(['id', 'title', 'release_date', 'overview', 'Family', 'Animation',\n",
       "       'History', 'Documentary', 'Adventure', 'Western', 'Crime', 'Drama',\n",
       "       'Horror', 'Science Fiction', 'Romance', 'War', 'Mystery', 'Fantasy',\n",
       "       'Action', 'TV Movie', 'Thriller', 'Comedy', 'Music', 'color_0',\n",
       "       'color_1'],\n",
       "      dtype='object')"
      ]
     },
     "execution_count": 79,
     "metadata": {},
     "output_type": "execute_result"
    }
   ],
   "source": [
    "df.columns"
   ]
  },
  {
   "cell_type": "code",
   "execution_count": 80,
   "metadata": {},
   "outputs": [
    {
     "data": {
      "text/html": [
       "<div>\n",
       "<style scoped>\n",
       "    .dataframe tbody tr th:only-of-type {\n",
       "        vertical-align: middle;\n",
       "    }\n",
       "\n",
       "    .dataframe tbody tr th {\n",
       "        vertical-align: top;\n",
       "    }\n",
       "\n",
       "    .dataframe thead th {\n",
       "        text-align: right;\n",
       "    }\n",
       "</style>\n",
       "<table border=\"1\" class=\"dataframe\">\n",
       "  <thead>\n",
       "    <tr style=\"text-align: right;\">\n",
       "      <th></th>\n",
       "      <th>id</th>\n",
       "      <th>Family</th>\n",
       "      <th>Animation</th>\n",
       "      <th>History</th>\n",
       "      <th>Documentary</th>\n",
       "      <th>Adventure</th>\n",
       "      <th>Western</th>\n",
       "      <th>Crime</th>\n",
       "      <th>Drama</th>\n",
       "      <th>Horror</th>\n",
       "      <th>...</th>\n",
       "      <th>War</th>\n",
       "      <th>Mystery</th>\n",
       "      <th>Fantasy</th>\n",
       "      <th>Action</th>\n",
       "      <th>TV Movie</th>\n",
       "      <th>Thriller</th>\n",
       "      <th>Comedy</th>\n",
       "      <th>Music</th>\n",
       "      <th>color_0</th>\n",
       "      <th>color_1</th>\n",
       "    </tr>\n",
       "  </thead>\n",
       "  <tbody>\n",
       "    <tr>\n",
       "      <th>count</th>\n",
       "      <td>25.000000</td>\n",
       "      <td>25.000000</td>\n",
       "      <td>25.000000</td>\n",
       "      <td>25.0</td>\n",
       "      <td>25.0</td>\n",
       "      <td>25.000000</td>\n",
       "      <td>25.0</td>\n",
       "      <td>25.0</td>\n",
       "      <td>25.00000</td>\n",
       "      <td>25.000000</td>\n",
       "      <td>...</td>\n",
       "      <td>25.0</td>\n",
       "      <td>25.000000</td>\n",
       "      <td>25.0</td>\n",
       "      <td>25.0</td>\n",
       "      <td>25.0</td>\n",
       "      <td>25.00000</td>\n",
       "      <td>25.0</td>\n",
       "      <td>25.000000</td>\n",
       "      <td>2.500000e+01</td>\n",
       "      <td>2.500000e+01</td>\n",
       "    </tr>\n",
       "    <tr>\n",
       "      <th>mean</th>\n",
       "      <td>372775.080000</td>\n",
       "      <td>0.200000</td>\n",
       "      <td>0.200000</td>\n",
       "      <td>0.0</td>\n",
       "      <td>0.0</td>\n",
       "      <td>0.440000</td>\n",
       "      <td>0.0</td>\n",
       "      <td>0.0</td>\n",
       "      <td>0.24000</td>\n",
       "      <td>0.080000</td>\n",
       "      <td>...</td>\n",
       "      <td>0.0</td>\n",
       "      <td>0.080000</td>\n",
       "      <td>0.4</td>\n",
       "      <td>0.4</td>\n",
       "      <td>0.0</td>\n",
       "      <td>0.24000</td>\n",
       "      <td>0.4</td>\n",
       "      <td>0.080000</td>\n",
       "      <td>2.233030e+07</td>\n",
       "      <td>8.041947e+06</td>\n",
       "    </tr>\n",
       "    <tr>\n",
       "      <th>std</th>\n",
       "      <td>117515.667261</td>\n",
       "      <td>0.408248</td>\n",
       "      <td>0.408248</td>\n",
       "      <td>0.0</td>\n",
       "      <td>0.0</td>\n",
       "      <td>0.506623</td>\n",
       "      <td>0.0</td>\n",
       "      <td>0.0</td>\n",
       "      <td>0.43589</td>\n",
       "      <td>0.276887</td>\n",
       "      <td>...</td>\n",
       "      <td>0.0</td>\n",
       "      <td>0.276887</td>\n",
       "      <td>0.5</td>\n",
       "      <td>0.5</td>\n",
       "      <td>0.0</td>\n",
       "      <td>0.43589</td>\n",
       "      <td>0.5</td>\n",
       "      <td>0.276887</td>\n",
       "      <td>5.433783e+07</td>\n",
       "      <td>5.263254e+06</td>\n",
       "    </tr>\n",
       "    <tr>\n",
       "      <th>min</th>\n",
       "      <td>920.000000</td>\n",
       "      <td>0.000000</td>\n",
       "      <td>0.000000</td>\n",
       "      <td>0.0</td>\n",
       "      <td>0.0</td>\n",
       "      <td>0.000000</td>\n",
       "      <td>0.0</td>\n",
       "      <td>0.0</td>\n",
       "      <td>0.00000</td>\n",
       "      <td>0.000000</td>\n",
       "      <td>...</td>\n",
       "      <td>0.0</td>\n",
       "      <td>0.000000</td>\n",
       "      <td>0.0</td>\n",
       "      <td>0.0</td>\n",
       "      <td>0.0</td>\n",
       "      <td>0.00000</td>\n",
       "      <td>0.0</td>\n",
       "      <td>0.000000</td>\n",
       "      <td>7.275700e+05</td>\n",
       "      <td>1.049354e+06</td>\n",
       "    </tr>\n",
       "    <tr>\n",
       "      <th>25%</th>\n",
       "      <td>299537.000000</td>\n",
       "      <td>0.000000</td>\n",
       "      <td>0.000000</td>\n",
       "      <td>0.0</td>\n",
       "      <td>0.0</td>\n",
       "      <td>0.000000</td>\n",
       "      <td>0.0</td>\n",
       "      <td>0.0</td>\n",
       "      <td>0.00000</td>\n",
       "      <td>0.000000</td>\n",
       "      <td>...</td>\n",
       "      <td>0.0</td>\n",
       "      <td>0.000000</td>\n",
       "      <td>0.0</td>\n",
       "      <td>0.0</td>\n",
       "      <td>0.0</td>\n",
       "      <td>0.00000</td>\n",
       "      <td>0.0</td>\n",
       "      <td>0.000000</td>\n",
       "      <td>2.301226e+06</td>\n",
       "      <td>2.894372e+06</td>\n",
       "    </tr>\n",
       "    <tr>\n",
       "      <th>50%</th>\n",
       "      <td>400650.000000</td>\n",
       "      <td>0.000000</td>\n",
       "      <td>0.000000</td>\n",
       "      <td>0.0</td>\n",
       "      <td>0.0</td>\n",
       "      <td>0.000000</td>\n",
       "      <td>0.0</td>\n",
       "      <td>0.0</td>\n",
       "      <td>0.00000</td>\n",
       "      <td>0.000000</td>\n",
       "      <td>...</td>\n",
       "      <td>0.0</td>\n",
       "      <td>0.000000</td>\n",
       "      <td>0.0</td>\n",
       "      <td>0.0</td>\n",
       "      <td>0.0</td>\n",
       "      <td>0.00000</td>\n",
       "      <td>0.0</td>\n",
       "      <td>0.000000</td>\n",
       "      <td>6.794913e+06</td>\n",
       "      <td>8.729728e+06</td>\n",
       "    </tr>\n",
       "    <tr>\n",
       "      <th>75%</th>\n",
       "      <td>450465.000000</td>\n",
       "      <td>0.000000</td>\n",
       "      <td>0.000000</td>\n",
       "      <td>0.0</td>\n",
       "      <td>0.0</td>\n",
       "      <td>1.000000</td>\n",
       "      <td>0.0</td>\n",
       "      <td>0.0</td>\n",
       "      <td>0.00000</td>\n",
       "      <td>0.000000</td>\n",
       "      <td>...</td>\n",
       "      <td>0.0</td>\n",
       "      <td>0.000000</td>\n",
       "      <td>1.0</td>\n",
       "      <td>1.0</td>\n",
       "      <td>0.0</td>\n",
       "      <td>0.00000</td>\n",
       "      <td>1.0</td>\n",
       "      <td>0.000000</td>\n",
       "      <td>1.268884e+07</td>\n",
       "      <td>1.230172e+07</td>\n",
       "    </tr>\n",
       "    <tr>\n",
       "      <th>max</th>\n",
       "      <td>512196.000000</td>\n",
       "      <td>1.000000</td>\n",
       "      <td>1.000000</td>\n",
       "      <td>0.0</td>\n",
       "      <td>0.0</td>\n",
       "      <td>1.000000</td>\n",
       "      <td>0.0</td>\n",
       "      <td>0.0</td>\n",
       "      <td>1.00000</td>\n",
       "      <td>1.000000</td>\n",
       "      <td>...</td>\n",
       "      <td>0.0</td>\n",
       "      <td>1.000000</td>\n",
       "      <td>1.0</td>\n",
       "      <td>1.0</td>\n",
       "      <td>0.0</td>\n",
       "      <td>1.00000</td>\n",
       "      <td>1.0</td>\n",
       "      <td>1.000000</td>\n",
       "      <td>2.022363e+08</td>\n",
       "      <td>1.941533e+07</td>\n",
       "    </tr>\n",
       "  </tbody>\n",
       "</table>\n",
       "<p>8 rows × 22 columns</p>\n",
       "</div>"
      ],
      "text/plain": [
       "                  id     Family  Animation  History  Documentary  Adventure  \\\n",
       "count      25.000000  25.000000  25.000000     25.0         25.0  25.000000   \n",
       "mean   372775.080000   0.200000   0.200000      0.0          0.0   0.440000   \n",
       "std    117515.667261   0.408248   0.408248      0.0          0.0   0.506623   \n",
       "min       920.000000   0.000000   0.000000      0.0          0.0   0.000000   \n",
       "25%    299537.000000   0.000000   0.000000      0.0          0.0   0.000000   \n",
       "50%    400650.000000   0.000000   0.000000      0.0          0.0   0.000000   \n",
       "75%    450465.000000   0.000000   0.000000      0.0          0.0   1.000000   \n",
       "max    512196.000000   1.000000   1.000000      0.0          0.0   1.000000   \n",
       "\n",
       "       Western  Crime     Drama     Horror  ...   War    Mystery  Fantasy  \\\n",
       "count     25.0   25.0  25.00000  25.000000  ...  25.0  25.000000     25.0   \n",
       "mean       0.0    0.0   0.24000   0.080000  ...   0.0   0.080000      0.4   \n",
       "std        0.0    0.0   0.43589   0.276887  ...   0.0   0.276887      0.5   \n",
       "min        0.0    0.0   0.00000   0.000000  ...   0.0   0.000000      0.0   \n",
       "25%        0.0    0.0   0.00000   0.000000  ...   0.0   0.000000      0.0   \n",
       "50%        0.0    0.0   0.00000   0.000000  ...   0.0   0.000000      0.0   \n",
       "75%        0.0    0.0   0.00000   0.000000  ...   0.0   0.000000      1.0   \n",
       "max        0.0    0.0   1.00000   1.000000  ...   0.0   1.000000      1.0   \n",
       "\n",
       "       Action  TV Movie  Thriller  Comedy      Music       color_0  \\\n",
       "count    25.0      25.0  25.00000    25.0  25.000000  2.500000e+01   \n",
       "mean      0.4       0.0   0.24000     0.4   0.080000  2.233030e+07   \n",
       "std       0.5       0.0   0.43589     0.5   0.276887  5.433783e+07   \n",
       "min       0.0       0.0   0.00000     0.0   0.000000  7.275700e+05   \n",
       "25%       0.0       0.0   0.00000     0.0   0.000000  2.301226e+06   \n",
       "50%       0.0       0.0   0.00000     0.0   0.000000  6.794913e+06   \n",
       "75%       1.0       0.0   0.00000     1.0   0.000000  1.268884e+07   \n",
       "max       1.0       0.0   1.00000     1.0   1.000000  2.022363e+08   \n",
       "\n",
       "            color_1  \n",
       "count  2.500000e+01  \n",
       "mean   8.041947e+06  \n",
       "std    5.263254e+06  \n",
       "min    1.049354e+06  \n",
       "25%    2.894372e+06  \n",
       "50%    8.729728e+06  \n",
       "75%    1.230172e+07  \n",
       "max    1.941533e+07  \n",
       "\n",
       "[8 rows x 22 columns]"
      ]
     },
     "execution_count": 80,
     "metadata": {},
     "output_type": "execute_result"
    }
   ],
   "source": [
    "df.describe()"
   ]
  },
  {
   "cell_type": "code",
   "execution_count": 81,
   "metadata": {},
   "outputs": [],
   "source": [
    "y = df[['Action']]\n",
    "X = df[['color_0', 'color_1']]\n",
    "X_train, X_test, y_train, y_test = train_test_split(X, y, test_size=0.3, stratify=y)"
   ]
  },
  {
   "cell_type": "code",
   "execution_count": 82,
   "metadata": {},
   "outputs": [
    {
     "data": {
      "text/plain": [
       "OneVsRestClassifier(estimator=SVC(C=1.0, cache_size=200, class_weight=None, coef0=0.0,\n",
       "  decision_function_shape='ovr', degree=3, gamma='auto', kernel='rbf',\n",
       "  max_iter=-1, probability=False, random_state=None, shrinking=True,\n",
       "  tol=0.001, verbose=False),\n",
       "          n_jobs=None)"
      ]
     },
     "execution_count": 82,
     "metadata": {},
     "output_type": "execute_result"
    }
   ],
   "source": [
    "from sklearn.multiclass import OneVsRestClassifier\n",
    "from sklearn.svm import SVC\n",
    "model = OneVsRestClassifier(SVC(gamma='auto'))\n",
    "model.fit(X_train,y_train)"
   ]
  },
  {
   "cell_type": "code",
   "execution_count": 83,
   "metadata": {},
   "outputs": [],
   "source": [
    "predictions = model.predict(X_test)"
   ]
  },
  {
   "cell_type": "code",
   "execution_count": 84,
   "metadata": {},
   "outputs": [],
   "source": [
    "from sklearn.metrics import confusion_matrix, classification_report"
   ]
  },
  {
   "cell_type": "code",
   "execution_count": 85,
   "metadata": {},
   "outputs": [
    {
     "name": "stdout",
     "output_type": "stream",
     "text": [
      "              precision    recall  f1-score   support\n",
      "\n",
      "           0       0.62      1.00      0.77         5\n",
      "           1       0.00      0.00      0.00         3\n",
      "\n",
      "   micro avg       0.62      0.62      0.62         8\n",
      "   macro avg       0.31      0.50      0.38         8\n",
      "weighted avg       0.39      0.62      0.48         8\n",
      "\n"
     ]
    }
   ],
   "source": [
    "print(classification_report(y_test,predictions))"
   ]
  },
  {
   "cell_type": "code",
   "execution_count": null,
   "metadata": {},
   "outputs": [],
   "source": []
  }
 ],
 "metadata": {
  "kernelspec": {
   "display_name": "Python 3",
   "language": "python",
   "name": "python3"
  },
  "language_info": {
   "codemirror_mode": {
    "name": "ipython",
    "version": 3
   },
   "file_extension": ".py",
   "mimetype": "text/x-python",
   "name": "python",
   "nbconvert_exporter": "python",
   "pygments_lexer": "ipython3",
   "version": "3.6.8"
  }
 },
 "nbformat": 4,
 "nbformat_minor": 2
}
